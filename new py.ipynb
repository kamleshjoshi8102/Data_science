{
 "cells": [
  {
   "cell_type": "code",
   "execution_count": 1,
   "metadata": {},
   "outputs": [
    {
     "name": "stdout",
     "output_type": "stream",
     "text": [
      "jupyter working\n"
     ]
    }
   ],
   "source": [
    "print(\"jupyter working\")"
   ]
  },
  {
   "cell_type": "code",
   "execution_count": 2,
   "metadata": {},
   "outputs": [
    {
     "name": "stdout",
     "output_type": "stream",
     "text": [
      "5\n"
     ]
    }
   ],
   "source": [
    "num=5\n",
    "print(num)"
   ]
  },
  {
   "cell_type": "code",
   "execution_count": 3,
   "metadata": {},
   "outputs": [
    {
     "name": "stdout",
     "output_type": "stream",
     "text": [
      "2.5\n"
     ]
    }
   ],
   "source": [
    "print(num/2)"
   ]
  },
  {
   "cell_type": "code",
   "execution_count": 4,
   "metadata": {},
   "outputs": [
    {
     "name": "stdout",
     "output_type": "stream",
     "text": [
      "0.8888888888888888\n"
     ]
    }
   ],
   "source": [
    "num=8\n",
    "print(num/9)"
   ]
  },
  {
   "cell_type": "code",
   "execution_count": 5,
   "metadata": {},
   "outputs": [
    {
     "name": "stdout",
     "output_type": "stream",
     "text": [
      "3.3333333333333335\n"
     ]
    }
   ],
   "source": [
    "x=10/3\n",
    "print(x)"
   ]
  },
  {
   "cell_type": "code",
   "execution_count": 6,
   "metadata": {
    "scrolled": true
   },
   "outputs": [
    {
     "name": "stdout",
     "output_type": "stream",
     "text": [
      "1\n"
     ]
    }
   ],
   "source": [
    "x=10%3\n",
    "print(x)"
   ]
  },
  {
   "cell_type": "code",
   "execution_count": 7,
   "metadata": {},
   "outputs": [
    {
     "name": "stdout",
     "output_type": "stream",
     "text": [
      "num!=0\n"
     ]
    }
   ],
   "source": [
    "if(num):\n",
    "    print(\"num!=0\")\n",
    "else:\n",
    "    print(\"num==0\")"
   ]
  },
  {
   "cell_type": "code",
   "execution_count": 8,
   "metadata": {},
   "outputs": [
    {
     "name": "stdout",
     "output_type": "stream",
     "text": [
      "num==0\n"
     ]
    }
   ],
   "source": [
    "num=0\n",
    "if(num):\n",
    "    print(\"num!=0\")\n",
    "else:\n",
    "    print(\"num==0\")\n",
    "    "
   ]
  },
  {
   "cell_type": "code",
   "execution_count": 9,
   "metadata": {},
   "outputs": [
    {
     "name": "stdout",
     "output_type": "stream",
     "text": [
      "num==0\n"
     ]
    }
   ],
   "source": [
    "\n",
    "if(num):\n",
    "    print(\"num!=0\")\n",
    "else:\n",
    "    print(\"num==0\")\n",
    "    "
   ]
  },
  {
   "cell_type": "code",
   "execution_count": 10,
   "metadata": {},
   "outputs": [
    {
     "name": "stdout",
     "output_type": "stream",
     "text": [
      "x==0\n"
     ]
    }
   ],
   "source": [
    "x=0\n",
    "if(x):\n",
    "    print(\"x!=0\")\n",
    "else:\n",
    "    print(\"x==0\")"
   ]
  },
  {
   "cell_type": "code",
   "execution_count": 11,
   "metadata": {},
   "outputs": [
    {
     "ename": "SyntaxError",
     "evalue": "EOL while scanning string literal (<ipython-input-11-b565ab4a5863>, line 1)",
     "output_type": "error",
     "traceback": [
      "\u001b[1;36m  File \u001b[1;32m\"<ipython-input-11-b565ab4a5863>\"\u001b[1;36m, line \u001b[1;32m1\u001b[0m\n\u001b[1;33m    print(\"/*\u001b[0m\n\u001b[1;37m             ^\u001b[0m\n\u001b[1;31mSyntaxError\u001b[0m\u001b[1;31m:\u001b[0m EOL while scanning string literal\n"
     ]
    }
   ],
   "source": [
    "print(\"/*\n",
    "       ／＞  フ\n",
    "      |  _  _|\n",
    "     ／`ミ _x 彡      * MEOW *\n",
    "    /      |\n",
    "   /   ヽ   ﾉ\n",
    "／￣|   | | |\n",
    "| (￣ヽ＿_ヽ_)_)\n",
    "＼二つ\n",
    "*/\")\n"
   ]
  },
  {
   "cell_type": "code",
   "execution_count": null,
   "metadata": {},
   "outputs": [],
   "source": [
    "x=10/3\n",
    "print(x)\n"
   ]
  },
  {
   "cell_type": "code",
   "execution_count": null,
   "metadata": {},
   "outputs": [],
   "source": [
    "x=30\n",
    "print(x%4)"
   ]
  },
  {
   "cell_type": "code",
   "execution_count": 12,
   "metadata": {},
   "outputs": [
    {
     "ename": "SyntaxError",
     "evalue": "invalid syntax (<ipython-input-12-7998d8778d47>, line 3)",
     "output_type": "error",
     "traceback": [
      "\u001b[1;36m  File \u001b[1;32m\"<ipython-input-12-7998d8778d47>\"\u001b[1;36m, line \u001b[1;32m3\u001b[0m\n\u001b[1;33m    int c=int(a) + int (b)\u001b[0m\n\u001b[1;37m        ^\u001b[0m\n\u001b[1;31mSyntaxError\u001b[0m\u001b[1;31m:\u001b[0m invalid syntax\n"
     ]
    }
   ],
   "source": [
    "a=input(print(\"enter a\"))\n",
    "b=input(print(\"enter b\"))\n",
    "c=int(a) + int (b)\n",
    "print(c)"
   ]
  },
  {
   "cell_type": "code",
   "execution_count": 13,
   "metadata": {},
   "outputs": [
    {
     "name": "stdout",
     "output_type": "stream",
     "text": [
      "enter a\n",
      "None52\n",
      "enter b\n",
      "None52\n",
      "104\n"
     ]
    }
   ],
   "source": [
    "a=input(print(\"enter a\"))\n",
    "b=input(print(\"enter b\"))\n",
    "c=int(a) + int (b)\n",
    "print(c)"
   ]
  },
  {
   "cell_type": "code",
   "execution_count": 14,
   "metadata": {},
   "outputs": [
    {
     "name": "stdout",
     "output_type": "stream",
     "text": [
      "enter a\n",
      "None52\n",
      "enter b\n",
      "None52\n",
      "104\n"
     ]
    }
   ],
   "source": [
    "a=input((print(\"enter a\")))\n",
    "b=input((print(\"enter b\")))\n",
    "c=int(a) + int (b)\n",
    "print(c)"
   ]
  },
  {
   "cell_type": "code",
   "execution_count": 15,
   "metadata": {},
   "outputs": [
    {
     "name": "stdout",
     "output_type": "stream",
     "text": [
      "enter a52\n",
      "enter b52\n",
      "104\n"
     ]
    }
   ],
   "source": [
    "a=input(\"enter a\")\n",
    "b=input(\"enter b\")\n",
    "c=int(a) + int (b)\n",
    "print(c)"
   ]
  },
  {
   "cell_type": "code",
   "execution_count": 16,
   "metadata": {},
   "outputs": [
    {
     "name": "stdout",
     "output_type": "stream",
     "text": [
      "\t enter a52\n",
      "\t enter b52\n",
      "104\n"
     ]
    }
   ],
   "source": [
    "a=input(\"\\t enter a\")\n",
    "b=input(\"\\t enter b\")\n",
    "c=int(a) + int (b)\n",
    "print(c)"
   ]
  },
  {
   "cell_type": "code",
   "execution_count": 17,
   "metadata": {},
   "outputs": [
    {
     "name": "stdout",
     "output_type": "stream",
     "text": [
      "\t enter a52.5\n",
      "\t enter b52.66\n"
     ]
    },
    {
     "ename": "ValueError",
     "evalue": "invalid literal for int() with base 10: '52.5'",
     "output_type": "error",
     "traceback": [
      "\u001b[1;31m---------------------------------------------------------------------------\u001b[0m",
      "\u001b[1;31mValueError\u001b[0m                                Traceback (most recent call last)",
      "\u001b[1;32m<ipython-input-17-3894c3e71f18>\u001b[0m in \u001b[0;36m<module>\u001b[1;34m\u001b[0m\n\u001b[0;32m      1\u001b[0m \u001b[0ma\u001b[0m\u001b[1;33m=\u001b[0m\u001b[0minput\u001b[0m\u001b[1;33m(\u001b[0m\u001b[1;34m\"\\t enter a\"\u001b[0m\u001b[1;33m)\u001b[0m\u001b[1;33m\u001b[0m\u001b[1;33m\u001b[0m\u001b[0m\n\u001b[0;32m      2\u001b[0m \u001b[0mb\u001b[0m\u001b[1;33m=\u001b[0m\u001b[0minput\u001b[0m\u001b[1;33m(\u001b[0m\u001b[1;34m\"\\t enter b\"\u001b[0m\u001b[1;33m)\u001b[0m\u001b[1;33m\u001b[0m\u001b[1;33m\u001b[0m\u001b[0m\n\u001b[1;32m----> 3\u001b[1;33m \u001b[0mc\u001b[0m\u001b[1;33m=\u001b[0m\u001b[0mint\u001b[0m\u001b[1;33m(\u001b[0m\u001b[0ma\u001b[0m\u001b[1;33m)\u001b[0m \u001b[1;33m+\u001b[0m \u001b[0mint\u001b[0m \u001b[1;33m(\u001b[0m\u001b[0mb\u001b[0m\u001b[1;33m)\u001b[0m\u001b[1;33m\u001b[0m\u001b[1;33m\u001b[0m\u001b[0m\n\u001b[0m\u001b[0;32m      4\u001b[0m \u001b[0mprint\u001b[0m\u001b[1;33m(\u001b[0m\u001b[0mc\u001b[0m\u001b[1;33m)\u001b[0m\u001b[1;33m\u001b[0m\u001b[1;33m\u001b[0m\u001b[0m\n",
      "\u001b[1;31mValueError\u001b[0m: invalid literal for int() with base 10: '52.5'"
     ]
    }
   ],
   "source": [
    "a=input(\"\\t enter a\")\n",
    "b=input(\"\\t enter b\")\n",
    "c=int(a) + int (b)\n",
    "print(c)"
   ]
  },
  {
   "cell_type": "code",
   "execution_count": 18,
   "metadata": {},
   "outputs": [
    {
     "name": "stdout",
     "output_type": "stream",
     "text": [
      "\t enter a52\n",
      "\t enter b52\n",
      "104\n"
     ]
    }
   ],
   "source": [
    "a=input(\"\\t enter a\")\n",
    "b=input(\"\\t enter b\")\n",
    "c=int(a) + int (b)\n",
    "print(c)"
   ]
  },
  {
   "cell_type": "code",
   "execution_count": 19,
   "metadata": {},
   "outputs": [
    {
     "name": "stdout",
     "output_type": "stream",
     "text": [
      "\t enter a52\n",
      "\t enter b52\n",
      "104\n"
     ]
    }
   ],
   "source": [
    "a=input(\"\\t enter a\")\n",
    "b=input(\"\\t enter b\")\n",
    "c=int(a) + int (b)\n",
    "print(c)"
   ]
  },
  {
   "cell_type": "code",
   "execution_count": 1,
   "metadata": {},
   "outputs": [
    {
     "name": "stdout",
     "output_type": "stream",
     "text": [
      "Enter Email\n",
      ">>j.kamlesh@gmail.com\n",
      "Username: j.kamlesh\n",
      "domain: gmail.com\n"
     ]
    }
   ],
   "source": [
    "print(\"Enter Email\")\n",
    "mail=input(\">>\")\n",
    "\n",
    "username=mail.split('@')\n",
    "\n",
    "print(f\"Username: {username[0]}\")\n",
    "\n",
    "print(f\"domain: {username[1]}\")\n"
   ]
  },
  {
   "cell_type": "code",
   "execution_count": 2,
   "metadata": {},
   "outputs": [
    {
     "name": "stdout",
     "output_type": "stream",
     "text": [
      "Enter first number: 54\n",
      "Enter second number: 57\n",
      "Enter third number: 58\n",
      "The largest number is 58.0\n"
     ]
    }
   ],
   "source": [
    "num1 = float(input(\"Enter first number: \"))\n",
    "num2 = float(input(\"Enter second number: \"))\n",
    "num3 = float(input(\"Enter third number: \"))\n",
    " \n",
    "if (num1 > num2) and (num1 > num3):\n",
    "   lar = num1\n",
    "elif (num2 > num1) and (num2 > num3):\n",
    "   lar = num2\n",
    "else:\n",
    "   lar = num3\n",
    " \n",
    "print(\"The largest number is\",lar)"
   ]
  },
  {
   "cell_type": "code",
   "execution_count": null,
   "metadata": {},
   "outputs": [
    {
     "name": "stdout",
     "output_type": "stream",
     "text": [
      "Username And Domain Seprator\n",
      "Enter Email\n"
     ]
    }
   ],
   "source": [
    "print(\"Username And Domain Seprator\")\n",
    "print(\"Enter Email\")\n",
    "mail=input(\">>\")\n",
    "flag=0\n",
    "for i in mail:\n",
    "    if(i=='@'):\n",
    "        username = mail.split('@')\n",
    "\n",
    "        print(f\"Username: {username[0]}\")\n",
    "\n",
    "        print(f\"domain: {username[1]}\")\n",
    "\n",
    "        flag=1\n",
    "\n",
    "if(flag!=1):\n",
    "    print(\"You Have Entered Wrong Email\")\n"
   ]
  },
  {
   "cell_type": "code",
   "execution_count": 2,
   "metadata": {},
   "outputs": [
    {
     "name": "stdout",
     "output_type": "stream",
     "text": [
      "sfsafaef\n",
      "5\n",
      "5\n"
     ]
    }
   ],
   "source": [
    "print(\"sfsafaef\")\n",
    "x=input()\n",
    "print(x)"
   ]
  },
  {
   "cell_type": "code",
   "execution_count": null,
   "metadata": {},
   "outputs": [],
   "source": []
  }
 ],
 "metadata": {
  "kernelspec": {
   "display_name": "Python 3",
   "language": "python",
   "name": "python3"
  },
  "language_info": {
   "codemirror_mode": {
    "name": "ipython",
    "version": 3
   },
   "file_extension": ".py",
   "mimetype": "text/x-python",
   "name": "python",
   "nbconvert_exporter": "python",
   "pygments_lexer": "ipython3",
   "version": "3.9.1"
  }
 },
 "nbformat": 4,
 "nbformat_minor": 4
}
